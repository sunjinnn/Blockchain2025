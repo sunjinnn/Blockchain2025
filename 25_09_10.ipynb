{
  "nbformat": 4,
  "nbformat_minor": 0,
  "metadata": {
    "colab": {
      "provenance": [],
      "authorship_tag": "ABX9TyM11kzu7bROFMjSDAdiNM9s",
      "include_colab_link": true
    },
    "kernelspec": {
      "name": "python3",
      "display_name": "Python 3"
    },
    "language_info": {
      "name": "python"
    }
  },
  "cells": [
    {
      "cell_type": "markdown",
      "metadata": {
        "id": "view-in-github",
        "colab_type": "text"
      },
      "source": [
        "<a href=\"https://colab.research.google.com/github/sunjinnn/Blockchain2025/blob/main/25_09_10.ipynb\" target=\"_parent\"><img src=\"https://colab.research.google.com/assets/colab-badge.svg\" alt=\"Open In Colab\"/></a>"
      ]
    },
    {
      "cell_type": "code",
      "execution_count": 8,
      "metadata": {
        "colab": {
          "base_uri": "https://localhost:8080/",
          "height": 485
        },
        "id": "u51VSCmqLGRm",
        "outputId": "e8bd7999-e50b-4bb8-cab0-d3f78e944ff4"
      },
      "outputs": [
        {
          "output_type": "stream",
          "name": "stdout",
          "text": [
            "1.0\n",
            "[0]\n"
          ]
        },
        {
          "output_type": "display_data",
          "data": {
            "text/plain": [
              "<Figure size 640x480 with 1 Axes>"
            ],
            "image/png": "[encoded data removed]"
          },
          "metadata": {}
        }
      ],
      "source": [
        "from sklearn.neighbors import KNeighborsClassifier\n",
        "kn = KNeighborsClassifier(n_neighbors=3) #근접하게 더 정확한 수치를 보여줌 49일 경우 71%, 숫자가 떨어질 수록 높아진다\n",
        "import matplotlib.pyplot as plt\n",
        "\n",
        "bream_length = [25.4, 26.3, 26.5, 29.0, 29.0, 29.7, 29.7, 30.0, 30.0, 30.7, 31.0, 31.0,\n",
        "                31.5, 32.0, 32.0, 32.0, 33.0, 33.0, 33.5, 33.5, 34.0, 34.0, 34.5, 35.0,\n",
        "                35.0, 35.0, 35.0, 36.0, 36.0, 37.0, 38.5, 38.5, 39.5, 41.0, 41.0]\n",
        "bream_weight = [242.0, 290.0, 340.0, 363.0, 430.0, 450.0, 500.0, 390.0, 450.0, 500.0, 475.0, 500.0,\n",
        "                500.0, 340.0, 600.0, 600.0, 700.0, 700.0, 610.0, 650.0, 575.0, 685.0, 620.0, 680.0,\n",
        "                700.0, 725.0, 720.0, 714.0, 850.0, 1000.0, 920.0, 955.0, 925.0, 975.0, 950.0]\n",
        "smelt_length = [9.8, 10.5, 10.6, 11.0, 11.2, 11.3, 11.8, 11.8, 12.0, 12.2, 12.4, 13.0, 14.3, 15.0]\n",
        "smelt_weight = [6.7, 7.5, 7.0, 9.7, 9.8, 8.7, 10.0, 9.9, 9.8, 12.2, 13.4, 12.2, 19.7, 19.9]\n",
        "\n",
        "\n",
        "length = bream_length + smelt_length\n",
        "weight = bream_weight + smelt_weight\n",
        "\n",
        "fish_data = [[l, w] for l, w in zip(length, weight)]\n",
        "fish_target = [1]*35 + [0]*14\n",
        "kn.fit(fish_data, fish_target)\n",
        "print(kn.score(fish_data, fish_target)) #정확도\n",
        "print(kn.predict([[15, 20]]))\n",
        "\n",
        "#print(fish_data)\n",
        "#print(fish_target)\n",
        "\n",
        "#print(bream_length)\n",
        "#print(bream_weight)\n",
        "\n",
        "\n",
        "plt.scatter(bream_length, bream_weight)\n",
        "plt.scatter(smelt_length, smelt_weight)\n",
        "plt.xlabel('lenght')\n",
        "plt.ylabel('weight')\n",
        "plt.scatter(30, 600, marker='^') #산점도?\n",
        "plt.show()"
      ]
    },
    {
      "cell_type": "markdown",
      "source": [
        "홀수인 게 더 좋다\n",
        "49를 입력했을 때 왜 71%가 나왔을까? (n_neighbors=49)\n",
        "빙어를 예측해서 해보면 predict에 작은 숫자를 넣고?..\n",
        "\n",
        "아주 작은 값을 예측해봤는데 네이버스가 3이면 가까운 것만 가지고 예측하니까 다 빙어겠지\n",
        "49를 줘보면 더 넓게 판별을 하니까 49개를 따지면 빙어 15개 돔 42개 뭐 어쩌고 그렇게 되겠지\n",
        "\n",
        "지금 어떤 문제가 있냐면 49개를 가지고 학습을 하고 전체를 다 물어보니까 다 답을 알려준다 그래서 훈련한 셋은 따로 두고 훈련 안 한 놈으로 물어봐야 한다\n",
        "그래야 맞췄을 때 의미가 있다\n",
        "\n",
        "그래서 k최근근접동작원리를 설명했다 k가 5개면 가까운 5개 중에서 많은 것중에서 판별을 한다 (k최근접이웃)\n",
        "가까운 몇 개를 할 것인가에 대해 설명한 것이다\n",
        "모델에다가 값을 줄 때 결과가 달라지니까 적당한 값을 줘야하니까 배우는 것이다\n",
        "\n",
        "하이퍼파라미터라고 한다 (파라미터)\n",
        "\n",
        "k최근접이웃의 작동방법에 대해 알아보았다 (9/16)\n",
        "\n",
        "학습세트, 훈련세트를 다음 시간에 다룰 것이다."
      ],
      "metadata": {
        "id": "MkUXSGG2TQZQ"
      }
    }
  ]
}