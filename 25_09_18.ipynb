{
  "nbformat": 4,
  "nbformat_minor": 0,
  "metadata": {
    "colab": {
      "provenance": [],
      "authorship_tag": "ABX9TyNPi9XpOW+nN2al3zFTCnaV",
      "include_colab_link": true
    },
    "kernelspec": {
      "name": "python3",
      "display_name": "Python 3"
    },
    "language_info": {
      "name": "python"
    }
  },
  "cells": [
    {
      "cell_type": "markdown",
      "metadata": {
        "id": "view-in-github",
        "colab_type": "text"
      },
      "source": [
        "<a href=\"https://colab.research.google.com/github/sunjinnn/Blockchain2025/blob/main/25_09_18.ipynb\" target=\"_parent\"><img src=\"https://colab.research.google.com/assets/colab-badge.svg\" alt=\"Open In Colab\"/></a>"
      ]
    },
    {
      "cell_type": "code",
      "execution_count": 23,
      "metadata": {
        "colab": {
          "base_uri": "https://localhost:8080/",
          "height": 448
        },
        "id": "z_-8oG5FQymj",
        "outputId": "31f0b7b3-236a-4c59-f520-04eb3362c624"
      },
      "outputs": [
        {
          "output_type": "stream",
          "name": "stdout",
          "text": [
            "[ 27.29722222 454.09722222]\n"
          ]
        },
        {
          "output_type": "display_data",
          "data": {
            "text/plain": [
              "<Figure size 640x480 with 1 Axes>"
            ],
            "image/png": "[encoded data removed]"
          },
          "metadata": {}
        }
      ],
      "source": [
        "import numpy as np\n",
        "import matplotlib.pyplot as plt\n",
        "from sklearn.neighbors import KNeighborsClassifier #구글에서 제공하고 있는 인공지\n",
        "from sklearn.model_selection import train_test_split\n",
        "\n",
        "kn = KNeighborsClassifier(n_neighbors=5)\n",
        "\n",
        "bream_length = [25.4, 26.3, 26.5, 29.0, 29.0, 29.7, 29.7, 30.0, 30.0, 30.7, 31.0, 31.0,\n",
        "                31.5, 32.0, 32.0, 32.0, 33.0, 33.0, 33.5, 33.5, 34.0, 34.0, 34.5, 35.0,\n",
        "                35.0, 35.0, 35.0, 36.0, 36.0, 37.0, 38.5, 38.5, 39.5, 41.0, 41.0]\n",
        "bream_weight = [242.0, 290.0, 340.0, 363.0, 430.0, 450.0, 500.0, 390.0, 450.0, 500.0, 475.0, 500.0,\n",
        "                500.0, 340.0, 600.0, 600.0, 700.0, 700.0, 610.0, 650.0, 575.0, 685.0, 620.0, 680.0,\n",
        "                700.0, 725.0, 720.0, 714.0, 850.0, 1000.0, 920.0, 955.0, 925.0, 975.0, 950.0]\n",
        "smelt_length = [9.8, 10.5, 10.6, 11.0, 11.2, 11.3, 11.8, 11.8, 12.0, 12.2, 12.4, 13.0, 14.3, 15.0]\n",
        "smelt_weight = [6.7, 7.5, 7.0, 9.7, 9.8, 8.7, 10.0, 9.9, 9.8, 12.2, 13.4, 12.2, 19.7, 19.9]\n",
        "\n",
        "\n",
        "length = bream_length + smelt_length\n",
        "weight = bream_weight + smelt_weight\n",
        "\n",
        "fish_data = np.column_stack((length, weight))\n",
        "fish_target = [1]*35 + [0]*14  # ← 수정됨 (총 25개)\n",
        "\n",
        "train_input, test_input, train_target, test_target = train_test_split(\n",
        "    fish_data, fish_target, stratify=fish_target, random_state=42)\n",
        "\n",
        "#kn.fit(train_input, train_target)\n",
        "#print(kn.score(test_input, test_target))\n",
        "#print(kn.predict([[25, 150]]))\n",
        "mean=np.mean(train_input, axis=0)\n",
        "std=np.std(train_input, axis=0)\n",
        "train_scaled=(train_input-mean)/std\n",
        "\n",
        "print(mean)\n",
        "\n",
        "kn.fit(train_scaled, train_target)\n",
        "new=([25,150] - mean) / std\n",
        "kn.predict([new])\n",
        "\n",
        "plt.scatter(length, weight)\n",
        "plt.scatter([25], [150], marker='^')\n",
        "plt.xlim((0,1000)) #x축을 0부터 1000까지로 변경\n",
        "plt.show()\n"
      ]
    },
    {
      "cell_type": "markdown",
      "source": [
        "9/18\n",
        "\n",
        "처음 스코어는 0.0 그 다음 스코어는 1.0 => 이게 바로 정확도\n",
        "\n",
        "훈련세트: 훈련(학습)에 사용되는 데이터\n",
        "테스트세트: 평가에 사용되는 데이터\n",
        "샘플링 편향: 훈련세트에 샘플이 골고루 섞이지 않는 경우\n",
        "-데이터가 많이 있을 때 적절한 분포를 가지고 들어와야 하는데\n",
        "\n",
        "적절한 비율로 돔과 빙어 데이터를 가지고 학습을 하고 테스트를 해야 적당한 거임\n",
        "\n",
        "데이터편향 !! 윤리적인 판단이 필요한 부분이다\n",
        "\n",
        "훈련을 75% 테스트를 25%로 나눠서 진행 (49개의 데이터 중)\n",
        "나눌 때 무슨 기준으로 나누지?\n",
        "-> 타겟이 잘 섞이도록 75% 안에 빙어와 돔이 들어가야하는데 34:15의 비율로 들어가게 됨. (타겟을 가지고 기준을 정해라 라고 했으니까)\n",
        "fish_target대로 데이터를 가져오자?\n",
        "\n",
        "어떤 수를 리턴하는 알고리즘에서 같은 숫자가 나오는데 '초'를 넣게되면 훈련셋을 예시로 35:14의 비율로 항상 다른 걸 들고와서 다른 결과가 나옴 그래서 고정을 해버리면 학습데이터는 항상 같은 데이터를 가져오기 때문에 공부하기가 편하다 random_stat=42\n",
        "\n",
        "1g과 1cm에 대해 두 개의 차이를 확실히 잡아줘야할 거 같은?\n",
        "\n",
        "두 특성의 스케일과 데이터를 표현하는 기준이 다르다\n",
        "\n",
        "아놔 표준점수?? = (특성값-평균)/표준편차\n",
        "\n",
        "train_input, test_input만 스케일링하면 된다?\n"
      ],
      "metadata": {
        "id": "kZQy6N8xTBUQ"
      }
    }
  ]
}