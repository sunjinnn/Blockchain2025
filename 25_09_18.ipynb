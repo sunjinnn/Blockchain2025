{
  "nbformat": 4,
  "nbformat_minor": 0,
  "metadata": {
    "colab": {
      "provenance": [],
      "authorship_tag": "ABX9TyN+0zVG5iPqhc5s2cEZ0rBB",
      "include_colab_link": true
    },
    "kernelspec": {
      "name": "python3",
      "display_name": "Python 3"
    },
    "language_info": {
      "name": "python"
    }
  },
  "cells": [
    {
      "cell_type": "markdown",
      "metadata": {
        "id": "view-in-github",
        "colab_type": "text"
      },
      "source": [
        "<a href=\"https://colab.research.google.com/github/sunjinnn/Blockchain2025/blob/main/25_09_18.ipynb\" target=\"_parent\"><img src=\"https://colab.research.google.com/assets/colab-badge.svg\" alt=\"Open In Colab\"/></a>"
      ]
    },
    {
      "cell_type": "code",
      "execution_count": null,
      "metadata": {
        "colab": {
          "base_uri": "https://localhost:8080/"
        },
        "id": "z_-8oG5FQymj",
        "outputId": "cfb7ba78-5bd6-4852-c8dc-3f5a3038a52b"
      },
      "outputs": [
        {
          "output_type": "stream",
          "name": "stdout",
          "text": [
            "1.0\n",
            "1.0\n",
            "[0]\n",
            "[1]\n",
            "1.0\n",
            "1.0\n"
          ]
        },
        {
          "output_type": "display_data",
          "data": {
            "text/plain": [
              "<Figure size 640x480 with 1 Axes>"
            ],
            "image/png": "[encoded data removed]"
          },
          "metadata": {}
        }
      ],
      "source": [
        "import matplotlib.pyplot as plt\n",
        "import numpy as np\n",
        "from sklearn.neighbors import KNeighborsClassifier\n",
        "#추가 - 배열을 비율에 맞게 훈련데이터와 테스트 데이터로 나누어줌\n",
        "from sklearn.model_selection import train_test_split\n",
        "\n",
        "kn = KNeighborsClassifier(n_neighbors=5)\n",
        "\n",
        "fish_length = [25.4, 26.3, 26.5, 29.0, 29.0, 29.7, 29.7, 30.0, 30.0, 30.7, 31.0, 31.0,\n",
        "                31.5, 32.0, 32.0, 32.0, 33.0, 33.0, 33.5, 33.5, 34.0, 34.0, 34.5, 35.0,\n",
        "                35.0, 35.0, 35.0, 36.0, 36.0, 37.0, 38.5, 38.5, 39.5, 41.0, 41.0, 9.8,\n",
        "                10.5, 10.6, 11.0, 11.2, 11.3, 11.8, 11.8, 12.0, 12.2, 12.4, 13.0, 14.3, 15.0]\n",
        "\n",
        "fish_weight = [242.0, 290.0, 340.0, 363.0, 430.0, 450.0, 500.0, 390.0, 450.0, 500.0, 475.0, 500.0,\n",
        "                500.0, 340.0, 600.0, 600.0, 700.0, 700.0, 610.0, 650.0, 575.0, 685.0, 620.0, 680.0,\n",
        "                700.0, 725.0, 720.0, 714.0, 850.0, 1000.0, 920.0, 955.0, 925.0, 975.0, 950.0,\n",
        "                6.7, 7.5, 7.0, 9.7, 9.8, 8.7, 10.0, 9.9, 9.8, 12.2, 13.4, 12.2, 19.7, 19.9]\n",
        "\n",
        "fish_data = [[l, w] for l, w in zip(fish_length, fish_weight)]\n",
        "fish_target=[1]*35 + [0]*14\n",
        "\n",
        "# 추가\n",
        "# train_input = fish_data[:35]\n",
        "# train_target = fish_target[:35]\n",
        "# test_input = fish_data[35:]\n",
        "# test_target = fish_target[35:]\n",
        "\n",
        "#추가(데이터가 편향되지 않게 하는법)\n",
        "train_input, test_input, train_target, test_target = train_test_split(fish_data, fish_target, stratify=fish_target, random_state=42)\n",
        "# 비율은 75% 25%로 나눔\n",
        "# \"stratify=fish_target\": 나누는 기준을 타켓을 보고 해라, 35개 대 15개 비율로 데이터를 가져옴, seed를 42로 고정해서 학습동안 같은 데이터를 가져옴\n",
        "\n",
        "\n",
        "kn.fit(train_input, train_target)#훈련에 쓰이는 데이터\n",
        "print(kn.score(test_input, test_target))#테스트에 쓰이는 데이터, score는 정확도\n",
        "print(kn.score(train_input, train_target))\n",
        "# 돔만 가지고 학습해서 빙어에 대한 데이터를 입력하면 0이 나옴, 학습 데이터가 편향되지 않게\n",
        "print(kn.predict([[25, 150]]))\n",
        "\n",
        "# print(kn.predict([[30, 600]]))\n",
        "# print(kn.predict([[10, 60]]))\n",
        "\n",
        "# plt.scatter(fish_length, fish_weight, marker='^')\n",
        "# plt.scatter(25, 150, marker='*')\n",
        "# #결과가 빙어로 나옴 => 길이랑 무게를 같은 척도로 평가 가능하지 않음, x축의 비율을 늘려주기\n",
        "\n",
        "\n",
        "# plt.xlabel('length')\n",
        "# plt.ylabel('weight')\n",
        "# plt.xlim((0,1000))\n",
        "# plt.show()\n",
        "\n",
        "# 자동으로 두 특성의 스케일을 맞춰주는 표준점수를 사용할 것임\n",
        "# (특성값-평균)/표준편차로 나눠줌 : 표준편차는 평균에서 떨어진 정도 = 비율이 나옴\n",
        "# 스케일링 : 특성값을 표준점수로 변환\n",
        "\n",
        "mean = np.mean(train_input, axis=0)\n",
        "std = np.std(train_input, axis=0)\n",
        "train_scaled = (train_input -mean)/std # 범위 변환 완료\n",
        "kn.fit(train_scaled, train_target)\n",
        "new=([25, 150] - mean) /std # 똑같이 연산처리 해줘야함\n",
        "print(kn.predict([new])) # 돔이라고 나옴\n",
        "\n",
        "mean = np.mean(test_input, axis=0)\n",
        "std = np.std(test_input, axis=0)\n",
        "test_scaled = (test_input -mean)/std # 범위 변환 완료\n",
        "\n",
        "\n",
        "# 이제 테스트 데이터로 확인해보기 위해 테스트 데이터를 스케일링 하는 걸 해볼것\n",
        "\n",
        "# 스케일된 데이터의 산점도 확인\n",
        "# 9월 23일(화) 3주차 - 1\n",
        "\n",
        "plt.scatter(train_scaled[:,0], train_scaled[:,1])\n",
        "plt.scatter(test_scaled[:,0], test_scaled[:,1])\n",
        "\n",
        "\n",
        "kn.fit(train_scaled, train_target)#훈련에 쓰이는 데이터\n",
        "print(kn.score(test_scaled, test_target))#테스트에 쓰이는 데이터, score는 정확도\n",
        "print(kn.score(train_scaled, train_target))"
      ]
    },
    {
      "cell_type": "markdown",
      "source": [
        "9/18\n",
        "\n",
        "처음 스코어는 0.0 그 다음 스코어는 1.0 => 이게 바로 정확도\n",
        "\n",
        "훈련세트: 훈련(학습)에 사용되는 데이터\n",
        "테스트세트: 평가에 사용되는 데이터\n",
        "샘플링 편향: 훈련세트에 샘플이 골고루 섞이지 않는 경우\n",
        "-데이터가 많이 있을 때 적절한 분포를 가지고 들어와야 하는데\n",
        "\n",
        "적절한 비율로 돔과 빙어 데이터를 가지고 학습을 하고 테스트를 해야 적당한 거임\n",
        "\n",
        "데이터편향 !! 윤리적인 판단이 필요한 부분이다\n",
        "\n",
        "훈련을 75% 테스트를 25%로 나눠서 진행 (49개의 데이터 중)\n",
        "나눌 때 무슨 기준으로 나누지?\n",
        "-> 타겟이 잘 섞이도록 75% 안에 빙어와 돔이 들어가야하는데 34:15의 비율로 들어가게 됨. (타겟을 가지고 기준을 정해라 라고 했으니까)\n",
        "fish_target대로 데이터를 가져오자?\n",
        "\n",
        "어떤 수를 리턴하는 알고리즘에서 같은 숫자가 나오는데 '초'를 넣게되면 훈련셋을 예시로 35:14의 비율로 항상 다른 걸 들고와서 다른 결과가 나옴 그래서 고정을 해버리면 학습데이터는 항상 같은 데이터를 가져오기 때문에 공부하기가 편하다 random_stat=42\n",
        "\n",
        "1g과 1cm에 대해 두 개의 차이를 확실히 잡아줘야할 거 같은?\n",
        "\n",
        "두 특성의 스케일과 데이터를 표현하는 기준이 다르다\n",
        "\n",
        "아놔 표준점수?? = (특성값-평균)/표준편차\n",
        "\n",
        "train_input, test_input만 스케일링하면 된다?\n",
        "\n",
        "스케일링 전에는 빙어였는데 스케일링 후에는 돔이었다\n",
        "\n",
        "스케일링된 데이터의 산점도를 구해보거라 (9.23)\n",
        "\n",
        "[행, 열]\n",
        "[length, weight]\n",
        "train_scaled[1, 1] = 1행 1열\n",
        "[1:2, 0] = 1,2행의 0열\n",
        "[:,0] 0 열의 모든 행\n",
        "plt.scateer(train_scaled[:, 0], train_scaled[:,1])\n",
        "tast 트레일드된 데이터도 함께 찍어보기\n",
        "\n",
        "테스트데이터를 스케일링했음 평균을 빼고 std에 넣어둿으니 테스트데이터도 똑같이 스케일링해서 표준편차를 구하고 산점도를 찍어라\n",
        "\n",
        "<기말 발표 때>\n",
        "\n",
        "정확도와 표준편차를 보여주세요\n",
        "몇 대 몇으로 했습니다 라고 말해야 하는 정도"
      ],
      "metadata": {
        "id": "kZQy6N8xTBUQ"
      }
    }
  ]
}