{
  "nbformat": 4,
  "nbformat_minor": 0,
  "metadata": {
    "colab": {
      "provenance": [],
      "authorship_tag": "ABX9TyONlmXBOzYVa4dk+pYi7jaO",
      "include_colab_link": true
    },
    "kernelspec": {
      "name": "python3",
      "display_name": "Python 3"
    },
    "language_info": {
      "name": "python"
    }
  },
  "cells": [
    {
      "cell_type": "markdown",
      "metadata": {
        "id": "view-in-github",
        "colab_type": "text"
      },
      "source": [
        "<a href=\"https://colab.research.google.com/github/sunjinnn/Blockchain2025/blob/main/25_10_16_%EB%A1%9C%EC%A7%80%EC%8A%A4%ED%8B%B1_%ED%9A%8C%EA%B7%80.ipynb\" target=\"_parent\"><img src=\"https://colab.research.google.com/assets/colab-badge.svg\" alt=\"Open In Colab\"/></a>"
      ]
    },
    {
      "cell_type": "code",
      "execution_count": 13,
      "metadata": {
        "colab": {
          "base_uri": "https://localhost:8080/"
        },
        "id": "d8OO3UAFaZXJ",
        "outputId": "b1f98134-9949-41d1-ed9d-b01c4839045c"
      },
      "outputs": [
        {
          "output_type": "stream",
          "name": "stdout",
          "text": [
            "['Bream' 'Smelt' 'Bream' 'Bream' 'Bream']\n",
            "['Bream' 'Smelt']\n",
            "[[0.998 0.002]\n",
            " [0.027 0.973]\n",
            " [0.995 0.005]\n",
            " [0.986 0.014]\n",
            " [0.998 0.002]]\n",
            "[[-0.40451732 -0.57582787 -0.66248158 -1.01329614 -0.73123131]] [-2.16172774]\n",
            "[-6.03  3.57 -5.27 -4.24 -6.06]\n",
            "[0.00239993 0.97262675 0.00513614 0.01414953 0.00232581]\n"
          ]
        }
      ],
      "source": [
        "import numpy as np\n",
        "import pandas as pd\n",
        "from sklearn.model_selection import train_test_split\n",
        "from sklearn.preprocessing import StandardScaler\n",
        "\n",
        "fish = pd.read_csv('http://bit.ly/fish_csv_data')\n",
        "fish_input = fish[['Weight','Length','Diagonal','Height','Width']].to_numpy()\n",
        "fish_target = fish['Species'].to_numpy()\n",
        "\n",
        "train_input, test_input, train_target, test_target = train_test_split(fish_input, fish_target, random_state=42)\n",
        "\n",
        "\n",
        "\n",
        "#여기서부터는 스케일링\n",
        "ss = StandardScaler()\n",
        "ss.fit(train_input) #학습 셋 만들어줌\n",
        "train_scaled = ss.transform(train_input)\n",
        "test_scaled = ss.transform(test_input)\n",
        "\n",
        "bream_smelt_indexes = (train_target == 'Bream') | (train_target == 'Smelt')\n",
        "train_bream_smelt = train_scaled[bream_smelt_indexes]\n",
        "target_bream_smelt = train_target[bream_smelt_indexes]\n",
        "\n",
        "from sklearn.linear_model import LogisticRegression\n",
        "\n",
        "lr = LogisticRegression()\n",
        "lr.fit(train_bream_smelt, target_bream_smelt)\n",
        "\n",
        "print(lr.predict(train_bream_smelt[:5]))\n",
        "print(lr.classes_)\n",
        "print(np.round(lr.predict_proba(train_bream_smelt[:5]), decimals=3))\n",
        "\n",
        "print(lr.coef_, lr.intercept_) #가중치를 찍어보자\n",
        "\n",
        "decisions = lr.decision_function(train_bream_smelt[:5])\n",
        "print(np.round(decisions, decimals=2))\n",
        "\n",
        "from scipy.special import expit\n",
        "print(expit(decisions))\n",
        "\n",
        "# print(train_target) #여러가지 섞여있음\n",
        "# print(target_bream_smelt) #bream이랑 smelt 밖에 없음\n",
        "\n",
        "\n",
        "# kn.fit(train_scaled, train_target)\n",
        "# print(kn.predict(test_scaled[:5])) #여기까지가 예측\n",
        "# print(test_target[:5]) #정답! 예측한 거 중에 1개 틀림\n",
        "\n",
        "# print(kn.classes_)\n",
        "# proba = kn.predict_proba(test_scaled[:5])\n",
        "# print(np.round(proba, decimals=1))\n",
        "\n",
        "# print(fish_input.head())\n",
        "# print(fish_target.head()) #to_numpy로 해줬기 때문에 오류가 난다\n",
        "\n",
        "# print(fish['Species'])\n",
        "# print(fish.head()) #pandas가 있어야만 사용 가능함"
      ]
    }
  ]
}