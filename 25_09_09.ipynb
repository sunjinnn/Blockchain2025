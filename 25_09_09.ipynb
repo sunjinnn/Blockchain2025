{
  "nbformat": 4,
  "nbformat_minor": 0,
  "metadata": {
    "colab": {
      "provenance": [],
      "authorship_tag": "ABX9TyNSwhiB5jzGQlhZ7m3dTfy9",
      "include_colab_link": true
    },
    "kernelspec": {
      "name": "python3",
      "display_name": "Python 3"
    },
    "language_info": {
      "name": "python"
    }
  },
  "cells": [
    {
      "cell_type": "markdown",
      "metadata": {
        "id": "view-in-github",
        "colab_type": "text"
      },
      "source": [
        "<a href=\"https://colab.research.google.com/github/sunjinnn/Blockchain2025/blob/main/25_09_09.ipynb\" target=\"_parent\"><img src=\"https://colab.research.google.com/assets/colab-badge.svg\" alt=\"Open In Colab\"/></a>"
      ]
    },
    {
      "cell_type": "code",
      "source": [
        "def say():\n",
        "  print(\"말하기\")\n",
        "  print(\"말하기2\")\n",
        "say()\n",
        "say()"
      ],
      "metadata": {
        "colab": {
          "base_uri": "https://localhost:8080/"
        },
        "id": "x7JFeC_3PKVT",
        "outputId": "20fe095d-dd55-4d21-ac77-99ebab59ec18"
      },
      "execution_count": 17,
      "outputs": [
        {
          "output_type": "stream",
          "name": "stdout",
          "text": [
            "말하기\n",
            "말하기2\n",
            "말하기\n",
            "말하기2\n"
          ]
        }
      ]
    },
    {
      "cell_type": "code",
      "source": [
        "def say(x):\n",
        "  print(\"%s말하기\"%x)\n",
        "say(4)\n",
        "say(\"나랑\")"
      ],
      "metadata": {
        "colab": {
          "base_uri": "https://localhost:8080/"
        },
        "id": "6EN9hJv1PQfR",
        "outputId": "f16ccfad-264a-4d4c-d08a-7e769af00d9b"
      },
      "execution_count": 2,
      "outputs": [
        {
          "output_type": "stream",
          "name": "stdout",
          "text": [
            "4말하기\n",
            "나랑말하기\n"
          ]
        }
      ]
    },
    {
      "cell_type": "code",
      "source": [
        "def add(x, y):\n",
        "  return x+y\n",
        "\n",
        "print(add(4,5))\n",
        "print(add(\"나랑\", \"너랑\"))"
      ],
      "metadata": {
        "colab": {
          "base_uri": "https://localhost:8080/"
        },
        "id": "lQhTl9ayQatZ",
        "outputId": "abfc9fad-8c07-4d4d-ba36-a3c957decd5f"
      },
      "execution_count": 12,
      "outputs": [
        {
          "output_type": "stream",
          "name": "stdout",
          "text": [
            "9\n",
            "나랑너랑\n"
          ]
        }
      ]
    },
    {
      "cell_type": "code",
      "source": [
        "class test:\n",
        "  num=10\n",
        "  str='hello'\n",
        "  def show(self):\n",
        "    print(self.str)\n",
        "  def pick(self):\n",
        "    print(self.num)\n",
        "\n",
        "t=test()\n",
        "t.show()\n",
        "t.num=20\n",
        "t.pick()"
      ],
      "metadata": {
        "colab": {
          "base_uri": "https://localhost:8080/"
        },
        "id": "bsc4I273SabU",
        "outputId": "0e1c8cba-7f64-4439-9af1-07b6b38e9637"
      },
      "execution_count": 18,
      "outputs": [
        {
          "output_type": "stream",
          "name": "stdout",
          "text": [
            "hello\n",
            "20\n"
          ]
        }
      ]
    }
  ]
}