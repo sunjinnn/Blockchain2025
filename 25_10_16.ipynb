{
  "nbformat": 4,
  "nbformat_minor": 0,
  "metadata": {
    "colab": {
      "provenance": [],
      "authorship_tag": "ABX9TyP2y3c5emAj8+0JysuwtfBh",
      "include_colab_link": true
    },
    "kernelspec": {
      "name": "python3",
      "display_name": "Python 3"
    },
    "language_info": {
      "name": "python"
    }
  },
  "cells": [
    {
      "cell_type": "markdown",
      "metadata": {
        "id": "view-in-github",
        "colab_type": "text"
      },
      "source": [
        "<a href=\"https://colab.research.google.com/github/sunjinnn/Blockchain2025/blob/main/25_10_16.ipynb\" target=\"_parent\"><img src=\"https://colab.research.google.com/assets/colab-badge.svg\" alt=\"Open In Colab\"/></a>"
      ]
    },
    {
      "cell_type": "code",
      "execution_count": 16,
      "metadata": {
        "colab": {
          "base_uri": "https://localhost:8080/"
        },
        "id": "d8OO3UAFaZXJ",
        "outputId": "45545d9c-4fcc-423b-d85a-d1c85ca98f18"
      },
      "outputs": [
        {
          "output_type": "stream",
          "name": "stdout",
          "text": [
            "['Perch' 'Smelt' 'Perch' 'Perch' 'Perch']\n",
            "['Perch' 'Smelt' 'Pike' 'Whitefish' 'Perch']\n",
            "['Bream' 'Parkki' 'Perch' 'Pike' 'Roach' 'Smelt' 'Whitefish']\n",
            "[[0.  0.  0.6 0.  0.4 0.  0. ]\n",
            " [0.  0.  0.1 0.  0.  0.9 0. ]\n",
            " [0.  0.  0.6 0.4 0.  0.  0. ]\n",
            " [0.  0.  0.5 0.  0.4 0.  0.1]\n",
            " [0.  0.  0.8 0.  0.2 0.  0. ]]\n"
          ]
        }
      ],
      "source": [
        "import numpy as np\n",
        "import pandas as pd\n",
        "from sklearn.model_selection import train_test_split\n",
        "from sklearn.preprocessing import StandardScaler\n",
        "\n",
        "fish = pd.read_csv('http://bit.ly/fish_csv_data')\n",
        "fish_input = fish[['Weight','Length','Diagonal','Height','Width']].to_numpy()\n",
        "fish_target = fish['Species'].to_numpy()\n",
        "\n",
        "train_input, test_input, train_target, test_target = train_test_split(fish_input, fish_target, random_state=42)\n",
        "\n",
        "#여기서부터는 스케일링\n",
        "ss = StandardScaler()\n",
        "ss.fit(train_input) #학습 셋 만들어줌\n",
        "train_scaled = ss.transform(train_input)\n",
        "test_scaled = ss.transform(test_input)\n",
        "\n",
        "from sklearn.neighbors import KNeighborsClassifier\n",
        "kn = KNeighborsClassifier(n_neighbors=10)\n",
        "\n",
        "kn.fit(train_scaled, train_target)\n",
        "print(kn.predict(test_scaled[:5])) #여기까지가 예측\n",
        "print(test_target[:5]) #정답! 예측한 거 중에 1개 틀림\n",
        "\n",
        "print(kn.classes_)\n",
        "proba = kn.predict_proba(test_scaled[:5])\n",
        "print(np.round(proba, decimals=1))\n",
        "\n",
        "# print(fish_input.head())\n",
        "# print(fish_target.head()) #to_numpy로 해줬기 때문에 오류가 난다\n",
        "\n",
        "# print(fish['Species'])\n",
        "# print(fish.head()) #pandas가 있어야만 사용 가능함"
      ]
    }
  ]
}